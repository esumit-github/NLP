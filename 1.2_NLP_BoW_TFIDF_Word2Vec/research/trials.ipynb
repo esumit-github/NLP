{
 "cells": [
  {
   "cell_type": "code",
   "execution_count": null,
   "metadata": {},
   "outputs": [],
   "source": [
    "! pip install nltk"
   ]
  },
  {
   "cell_type": "markdown",
   "metadata": {},
   "source": [
    "## Import Libraries required for NLP"
   ]
  },
  {
   "cell_type": "code",
   "execution_count": 1,
   "metadata": {},
   "outputs": [],
   "source": [
    "# nltk is a NLP library for python different NLP framework. We will use this in our code.\n",
    "import nltk\n",
    "# For test preporocessing like PorterStemmer will be used for stemming.\n",
    "from nltk.stem import PorterStemmer\n",
    "# For test preporocessing like use of stopworrds will be usedb.\n",
    "from nltk.corpus import stopwords"
   ]
  },
  {
   "cell_type": "markdown",
   "metadata": {},
   "source": [
    "Data pragraph"
   ]
  },
  {
   "cell_type": "code",
   "execution_count": 2,
   "metadata": {},
   "outputs": [],
   "source": [
    "paragraph = \"\"\" The goal of reducing sequential computation also forms the foundation of the Extended Neural GPU, ByteNet and ConvS2S, all of which use convolutional neural networks as basic building block, computing hidden representations in parallel for all input and output positions. In these models, the number of operations required to relate signals from two arbitrary input or output positions grows in the distance between positions, linearly for ConvS2S and logarithmically for ByteNet. This makes it more difficult to learn dependencies between distant positions. In the Transformer this is reduced to a constant number of operations, albeit at the cost of reduced effective resolution due to averaging attention-weighted positions, an effect we counteract with Multi-Head Attention.Self-attention, sometimes called intra-attention is an attention mechanism relating different positions of a single sequence in order to compute a representation of the sequence. Self-attention has been used successfully in a variety of tasks including reading comprehension, abstractive summarization, textual entailment and learning task-independent sentence representations. End- to-end memory networks are based on a recurrent attention mechanism instead of sequencealigned recurrence and have been shown to perform well on simple- language question answering and language modeling tasks.\n",
    "To the best of our knowledge, however, the Transformer is the first transduction model relying entirely on self-attention to compute representations of its input and output without using sequence aligned RNNs or convolution.\n",
    "\"\"\""
   ]
  },
  {
   "cell_type": "code",
   "execution_count": 3,
   "metadata": {},
   "outputs": [
    {
     "data": {
      "text/plain": [
       "' The goal of reducing sequential computation also forms the foundation of the Extended Neural GPU, ByteNet and ConvS2S, all of which use convolutional neural networks as basic building block, computing hidden representations in parallel for all input and output positions. In these models, the number of operations required to relate signals from two arbitrary input or output positions grows in the distance between positions, linearly for ConvS2S and logarithmically for ByteNet. This makes it more difficult to learn dependencies between distant positions. In the Transformer this is reduced to a constant number of operations, albeit at the cost of reduced effective resolution due to averaging attention-weighted positions, an effect we counteract with Multi-Head Attention.Self-attention, sometimes called intra-attention is an attention mechanism relating different positions of a single sequence in order to compute a representation of the sequence. Self-attention has been used successfully in a variety of tasks including reading comprehension, abstractive summarization, textual entailment and learning task-independent sentence representations. End- to-end memory networks are based on a recurrent attention mechanism instead of sequencealigned recurrence and have been shown to perform well on simple- language question answering and language modeling tasks.\\nTo the best of our knowledge, however, the Transformer is the first transduction model relying entirely on self-attention to compute representations of its input and output without using sequence aligned RNNs or convolution.\\n'"
      ]
     },
     "execution_count": 3,
     "metadata": {},
     "output_type": "execute_result"
    }
   ],
   "source": [
    "paragraph"
   ]
  },
  {
   "cell_type": "markdown",
   "metadata": {},
   "source": [
    "## Tokenization -- coverts paragraph into sentences-words\n",
    "\n",
    "- In order to use the tokenization process nltk has sentence tokenizer\n",
    "- It returns the tokenized copy of the sentence.\n",
    "- It will convert the paragraph into sentences.\n",
    "- In order to user the sentence tokenizer a package needs to be download called 'punkt'"
   ]
  },
  {
   "cell_type": "code",
   "execution_count": 4,
   "metadata": {},
   "outputs": [
    {
     "name": "stderr",
     "output_type": "stream",
     "text": [
      "[nltk_data] Downloading package punkt to\n",
      "[nltk_data]     C:\\Users\\Sumit\\AppData\\Roaming\\nltk_data...\n",
      "[nltk_data]   Package punkt is already up-to-date!\n"
     ]
    }
   ],
   "source": [
    "nltk.download('punkt')\n",
    "sentences = nltk.sent_tokenize(paragraph)"
   ]
  },
  {
   "cell_type": "code",
   "execution_count": 5,
   "metadata": {},
   "outputs": [
    {
     "name": "stdout",
     "output_type": "stream",
     "text": [
      "[' The goal of reducing sequential computation also forms the foundation of the Extended Neural GPU, ByteNet and ConvS2S, all of which use convolutional neural networks as basic building block, computing hidden representations in parallel for all input and output positions.', 'In these models, the number of operations required to relate signals from two arbitrary input or output positions grows in the distance between positions, linearly for ConvS2S and logarithmically for ByteNet.', 'This makes it more difficult to learn dependencies between distant positions.', 'In the Transformer this is reduced to a constant number of operations, albeit at the cost of reduced effective resolution due to averaging attention-weighted positions, an effect we counteract with Multi-Head Attention.Self-attention, sometimes called intra-attention is an attention mechanism relating different positions of a single sequence in order to compute a representation of the sequence.', 'Self-attention has been used successfully in a variety of tasks including reading comprehension, abstractive summarization, textual entailment and learning task-independent sentence representations.', 'End- to-end memory networks are based on a recurrent attention mechanism instead of sequencealigned recurrence and have been shown to perform well on simple- language question answering and language modeling tasks.', 'To the best of our knowledge, however, the Transformer is the first transduction model relying entirely on self-attention to compute representations of its input and output without using sequence aligned RNNs or convolution.']\n"
     ]
    }
   ],
   "source": [
    "print(sentences)"
   ]
  },
  {
   "cell_type": "code",
   "execution_count": 6,
   "metadata": {},
   "outputs": [
    {
     "data": {
      "text/plain": [
       "list"
      ]
     },
     "execution_count": 6,
     "metadata": {},
     "output_type": "execute_result"
    }
   ],
   "source": [
    "type(sentences)"
   ]
  },
  {
   "cell_type": "markdown",
   "metadata": {},
   "source": [
    "## Stemming"
   ]
  },
  {
   "cell_type": "code",
   "execution_count": 7,
   "metadata": {},
   "outputs": [],
   "source": [
    "stemmer=PorterStemmer()"
   ]
  },
  {
   "cell_type": "code",
   "execution_count": 8,
   "metadata": {},
   "outputs": [
    {
     "data": {
      "text/plain": [
       "'build'"
      ]
     },
     "execution_count": 8,
     "metadata": {},
     "output_type": "execute_result"
    }
   ],
   "source": [
    "stemmer.stem('building')"
   ]
  },
  {
   "cell_type": "markdown",
   "metadata": {},
   "source": [
    "## Lemmatizer --"
   ]
  },
  {
   "cell_type": "code",
   "execution_count": 9,
   "metadata": {},
   "outputs": [
    {
     "name": "stderr",
     "output_type": "stream",
     "text": [
      "[nltk_data] Downloading package wordnet to\n",
      "[nltk_data]     C:\\Users\\Sumit\\AppData\\Roaming\\nltk_data...\n",
      "[nltk_data]   Package wordnet is already up-to-date!\n",
      "[nltk_data] Downloading package stopwords to\n",
      "[nltk_data]     C:\\Users\\Sumit\\AppData\\Roaming\\nltk_data...\n",
      "[nltk_data]   Package stopwords is already up-to-date!\n"
     ]
    },
    {
     "data": {
      "text/plain": [
       "True"
      ]
     },
     "execution_count": 9,
     "metadata": {},
     "output_type": "execute_result"
    }
   ],
   "source": [
    "from nltk.stem import WordNetLemmatizer\n",
    "nltk.download('wordnet')\n",
    "nltk.download('stopwords')"
   ]
  },
  {
   "cell_type": "code",
   "execution_count": 10,
   "metadata": {},
   "outputs": [],
   "source": [
    "lemmat = WordNetLemmatizer()\n"
   ]
  },
  {
   "cell_type": "code",
   "execution_count": 11,
   "metadata": {},
   "outputs": [
    {
     "data": {
      "text/plain": [
       "'go'"
      ]
     },
     "execution_count": 11,
     "metadata": {},
     "output_type": "execute_result"
    }
   ],
   "source": [
    "lemmat.lemmatize('goes')"
   ]
  },
  {
   "cell_type": "markdown",
   "metadata": {},
   "source": [
    "## Apply lemmatization to the sentences in the paragraph\n",
    "\n",
    "First we need to clean the text of new lines , special characters   "
   ]
  },
  {
   "cell_type": "code",
   "execution_count": 12,
   "metadata": {},
   "outputs": [
    {
     "data": {
      "text/plain": [
       "7"
      ]
     },
     "execution_count": 12,
     "metadata": {},
     "output_type": "execute_result"
    }
   ],
   "source": [
    "len(sentences)"
   ]
  },
  {
   "cell_type": "markdown",
   "metadata": {},
   "source": [
    "By using simple regular expression we can remove all the special characters."
   ]
  },
  {
   "cell_type": "code",
   "execution_count": 13,
   "metadata": {},
   "outputs": [],
   "source": [
    "import re \n",
    "corpus = []\n",
    "for i in range(len(sentences)):\n",
    "    review = re.sub('[^a-zA-Z]', ' ', sentences[i])\n",
    "    review = review.lower()\n",
    "    corpus.append(review)"
   ]
  },
  {
   "cell_type": "code",
   "execution_count": 14,
   "metadata": {},
   "outputs": [
    {
     "data": {
      "text/plain": [
       "[' the goal of reducing sequential computation also forms the foundation of the extended neural gpu  bytenet and convs s  all of which use convolutional neural networks as basic building block  computing hidden representations in parallel for all input and output positions ',\n",
       " 'in these models  the number of operations required to relate signals from two arbitrary input or output positions grows in the distance between positions  linearly for convs s and logarithmically for bytenet ',\n",
       " 'this makes it more difficult to learn dependencies between distant positions ',\n",
       " 'in the transformer this is reduced to a constant number of operations  albeit at the cost of reduced effective resolution due to averaging attention weighted positions  an effect we counteract with multi head attention self attention  sometimes called intra attention is an attention mechanism relating different positions of a single sequence in order to compute a representation of the sequence ',\n",
       " 'self attention has been used successfully in a variety of tasks including reading comprehension  abstractive summarization  textual entailment and learning task independent sentence representations ',\n",
       " 'end  to end memory networks are based on a recurrent attention mechanism instead of sequencealigned recurrence and have been shown to perform well on simple  language question answering and language modeling tasks ',\n",
       " 'to the best of our knowledge  however  the transformer is the first transduction model relying entirely on self attention to compute representations of its input and output without using sequence aligned rnns or convolution ']"
      ]
     },
     "execution_count": 14,
     "metadata": {},
     "output_type": "execute_result"
    }
   ],
   "source": [
    "corpus"
   ]
  },
  {
   "cell_type": "markdown",
   "metadata": {},
   "source": [
    "Displaying Stopwords in english corpus"
   ]
  },
  {
   "cell_type": "code",
   "execution_count": 16,
   "metadata": {},
   "outputs": [
    {
     "data": {
      "text/plain": [
       "['i',\n",
       " 'me',\n",
       " 'my',\n",
       " 'myself',\n",
       " 'we',\n",
       " 'our',\n",
       " 'ours',\n",
       " 'ourselves',\n",
       " 'you',\n",
       " \"you're\",\n",
       " \"you've\",\n",
       " \"you'll\",\n",
       " \"you'd\",\n",
       " 'your',\n",
       " 'yours',\n",
       " 'yourself',\n",
       " 'yourselves',\n",
       " 'he',\n",
       " 'him',\n",
       " 'his',\n",
       " 'himself',\n",
       " 'she',\n",
       " \"she's\",\n",
       " 'her',\n",
       " 'hers',\n",
       " 'herself',\n",
       " 'it',\n",
       " \"it's\",\n",
       " 'its',\n",
       " 'itself',\n",
       " 'they',\n",
       " 'them',\n",
       " 'their',\n",
       " 'theirs',\n",
       " 'themselves',\n",
       " 'what',\n",
       " 'which',\n",
       " 'who',\n",
       " 'whom',\n",
       " 'this',\n",
       " 'that',\n",
       " \"that'll\",\n",
       " 'these',\n",
       " 'those',\n",
       " 'am',\n",
       " 'is',\n",
       " 'are',\n",
       " 'was',\n",
       " 'were',\n",
       " 'be',\n",
       " 'been',\n",
       " 'being',\n",
       " 'have',\n",
       " 'has',\n",
       " 'had',\n",
       " 'having',\n",
       " 'do',\n",
       " 'does',\n",
       " 'did',\n",
       " 'doing',\n",
       " 'a',\n",
       " 'an',\n",
       " 'the',\n",
       " 'and',\n",
       " 'but',\n",
       " 'if',\n",
       " 'or',\n",
       " 'because',\n",
       " 'as',\n",
       " 'until',\n",
       " 'while',\n",
       " 'of',\n",
       " 'at',\n",
       " 'by',\n",
       " 'for',\n",
       " 'with',\n",
       " 'about',\n",
       " 'against',\n",
       " 'between',\n",
       " 'into',\n",
       " 'through',\n",
       " 'during',\n",
       " 'before',\n",
       " 'after',\n",
       " 'above',\n",
       " 'below',\n",
       " 'to',\n",
       " 'from',\n",
       " 'up',\n",
       " 'down',\n",
       " 'in',\n",
       " 'out',\n",
       " 'on',\n",
       " 'off',\n",
       " 'over',\n",
       " 'under',\n",
       " 'again',\n",
       " 'further',\n",
       " 'then',\n",
       " 'once',\n",
       " 'here',\n",
       " 'there',\n",
       " 'when',\n",
       " 'where',\n",
       " 'why',\n",
       " 'how',\n",
       " 'all',\n",
       " 'any',\n",
       " 'both',\n",
       " 'each',\n",
       " 'few',\n",
       " 'more',\n",
       " 'most',\n",
       " 'other',\n",
       " 'some',\n",
       " 'such',\n",
       " 'no',\n",
       " 'nor',\n",
       " 'not',\n",
       " 'only',\n",
       " 'own',\n",
       " 'same',\n",
       " 'so',\n",
       " 'than',\n",
       " 'too',\n",
       " 'very',\n",
       " 's',\n",
       " 't',\n",
       " 'can',\n",
       " 'will',\n",
       " 'just',\n",
       " 'don',\n",
       " \"don't\",\n",
       " 'should',\n",
       " \"should've\",\n",
       " 'now',\n",
       " 'd',\n",
       " 'll',\n",
       " 'm',\n",
       " 'o',\n",
       " 're',\n",
       " 've',\n",
       " 'y',\n",
       " 'ain',\n",
       " 'aren',\n",
       " \"aren't\",\n",
       " 'couldn',\n",
       " \"couldn't\",\n",
       " 'didn',\n",
       " \"didn't\",\n",
       " 'doesn',\n",
       " \"doesn't\",\n",
       " 'hadn',\n",
       " \"hadn't\",\n",
       " 'hasn',\n",
       " \"hasn't\",\n",
       " 'haven',\n",
       " \"haven't\",\n",
       " 'isn',\n",
       " \"isn't\",\n",
       " 'ma',\n",
       " 'mightn',\n",
       " \"mightn't\",\n",
       " 'mustn',\n",
       " \"mustn't\",\n",
       " 'needn',\n",
       " \"needn't\",\n",
       " 'shan',\n",
       " \"shan't\",\n",
       " 'shouldn',\n",
       " \"shouldn't\",\n",
       " 'wasn',\n",
       " \"wasn't\",\n",
       " 'weren',\n",
       " \"weren't\",\n",
       " 'won',\n",
       " \"won't\",\n",
       " 'wouldn',\n",
       " \"wouldn't\"]"
      ]
     },
     "execution_count": 16,
     "metadata": {},
     "output_type": "execute_result"
    }
   ],
   "source": [
    "stopwords.words('english')"
   ]
  },
  {
   "cell_type": "markdown",
   "metadata": {},
   "source": [
    "Applying Stemming to the entire corpus"
   ]
  },
  {
   "cell_type": "code",
   "execution_count": 15,
   "metadata": {},
   "outputs": [
    {
     "name": "stdout",
     "output_type": "stream",
     "text": [
      "the\n",
      "goal\n",
      "reduc\n",
      "sequenti\n",
      "comput\n",
      "also\n",
      "form\n",
      "foundat\n",
      "extend\n",
      "neural\n",
      "gpu\n",
      ",\n",
      "bytenet\n",
      "convs2\n",
      ",\n",
      "use\n",
      "convolut\n",
      "neural\n",
      "network\n",
      "basic\n",
      "build\n",
      "block\n",
      ",\n",
      "comput\n",
      "hidden\n",
      "represent\n",
      "parallel\n",
      "input\n",
      "output\n",
      "posit\n",
      ".\n",
      "in\n",
      "model\n",
      ",\n",
      "number\n",
      "oper\n",
      "requir\n",
      "relat\n",
      "signal\n",
      "two\n",
      "arbitrari\n",
      "input\n",
      "output\n",
      "posit\n",
      "grow\n",
      "distanc\n",
      "posit\n",
      ",\n",
      "linearli\n",
      "convs2\n",
      "logarithm\n",
      "bytenet\n",
      ".\n",
      "thi\n",
      "make\n",
      "difficult\n",
      "learn\n",
      "depend\n",
      "distant\n",
      "posit\n",
      ".\n",
      "in\n",
      "transform\n",
      "reduc\n",
      "constant\n",
      "number\n",
      "oper\n",
      ",\n",
      "albeit\n",
      "cost\n",
      "reduc\n",
      "effect\n",
      "resolut\n",
      "due\n",
      "averag\n",
      "attention-weight\n",
      "posit\n",
      ",\n",
      "effect\n",
      "counteract\n",
      "multi-head\n",
      "attention.self-attent\n",
      ",\n",
      "sometim\n",
      "call\n",
      "intra-attent\n",
      "attent\n",
      "mechan\n",
      "relat\n",
      "differ\n",
      "posit\n",
      "singl\n",
      "sequenc\n",
      "order\n",
      "comput\n",
      "represent\n",
      "sequenc\n",
      ".\n",
      "self-attent\n",
      "use\n",
      "success\n",
      "varieti\n",
      "task\n",
      "includ\n",
      "read\n",
      "comprehens\n",
      ",\n",
      "abstract\n",
      "summar\n",
      ",\n",
      "textual\n",
      "entail\n",
      "learn\n",
      "task-independ\n",
      "sentenc\n",
      "represent\n",
      ".\n",
      "end-\n",
      "to-end\n",
      "memori\n",
      "network\n",
      "base\n",
      "recurr\n",
      "attent\n",
      "mechan\n",
      "instead\n",
      "sequencealign\n",
      "recurr\n",
      "shown\n",
      "perform\n",
      "well\n",
      "simple-\n",
      "languag\n",
      "question\n",
      "answer\n",
      "languag\n",
      "model\n",
      "task\n",
      ".\n",
      "to\n",
      "best\n",
      "knowledg\n",
      ",\n",
      "howev\n",
      ",\n",
      "transform\n",
      "first\n",
      "transduct\n",
      "model\n",
      "reli\n",
      "entir\n",
      "self-attent\n",
      "comput\n",
      "represent\n",
      "input\n",
      "output\n",
      "without\n",
      "use\n",
      "sequenc\n",
      "align\n",
      "rnn\n",
      "convolut\n",
      ".\n"
     ]
    }
   ],
   "source": [
    "## Stemming\n",
    "for i in sentences:\n",
    "    words = nltk.word_tokenize(i)\n",
    "    for word in words:\n",
    "        if word not in set(stopwords.words('english')):\n",
    "            print(stemmer.stem(word))"
   ]
  },
  {
   "cell_type": "markdown",
   "metadata": {},
   "source": [
    "Applying Lamatization to the entire corpus"
   ]
  },
  {
   "cell_type": "code",
   "execution_count": 17,
   "metadata": {},
   "outputs": [
    {
     "name": "stdout",
     "output_type": "stream",
     "text": [
      "the\n",
      "goal\n",
      "reduc\n",
      "sequenti\n",
      "comput\n",
      "also\n",
      "form\n",
      "foundat\n",
      "extend\n",
      "neural\n",
      "gpu\n",
      ",\n",
      "bytenet\n",
      "convs2\n",
      ",\n",
      "use\n",
      "convolut\n",
      "neural\n",
      "network\n",
      "basic\n",
      "build\n",
      "block\n",
      ",\n",
      "comput\n",
      "hidden\n",
      "represent\n",
      "parallel\n",
      "input\n",
      "output\n",
      "posit\n",
      ".\n",
      "in\n",
      "model\n",
      ",\n",
      "number\n",
      "oper\n",
      "requir\n",
      "relat\n",
      "signal\n",
      "two\n",
      "arbitrari\n",
      "input\n",
      "output\n",
      "posit\n",
      "grow\n",
      "distanc\n",
      "posit\n",
      ",\n",
      "linearli\n",
      "convs2\n",
      "logarithm\n",
      "bytenet\n",
      ".\n",
      "thi\n",
      "make\n",
      "difficult\n",
      "learn\n",
      "depend\n",
      "distant\n",
      "posit\n",
      ".\n",
      "in\n",
      "transform\n",
      "reduc\n",
      "constant\n",
      "number\n",
      "oper\n",
      ",\n",
      "albeit\n",
      "cost\n",
      "reduc\n",
      "effect\n",
      "resolut\n",
      "due\n",
      "averag\n",
      "attention-weight\n",
      "posit\n",
      ",\n",
      "effect\n",
      "counteract\n",
      "multi-head\n",
      "attention.self-attent\n",
      ",\n",
      "sometim\n",
      "call\n",
      "intra-attent\n",
      "attent\n",
      "mechan\n",
      "relat\n",
      "differ\n",
      "posit\n",
      "singl\n",
      "sequenc\n",
      "order\n",
      "comput\n",
      "represent\n",
      "sequenc\n",
      ".\n",
      "self-attent\n",
      "use\n",
      "success\n",
      "varieti\n",
      "task\n",
      "includ\n",
      "read\n",
      "comprehens\n",
      ",\n",
      "abstract\n",
      "summar\n",
      ",\n",
      "textual\n",
      "entail\n",
      "learn\n",
      "task-independ\n",
      "sentenc\n",
      "represent\n",
      ".\n",
      "end-\n",
      "to-end\n",
      "memori\n",
      "network\n",
      "base\n",
      "recurr\n",
      "attent\n",
      "mechan\n",
      "instead\n",
      "sequencealign\n",
      "recurr\n",
      "shown\n",
      "perform\n",
      "well\n",
      "simple-\n",
      "languag\n",
      "question\n",
      "answer\n",
      "languag\n",
      "model\n",
      "task\n",
      ".\n",
      "to\n",
      "best\n",
      "knowledg\n",
      ",\n",
      "howev\n",
      ",\n",
      "transform\n",
      "first\n",
      "transduct\n",
      "model\n",
      "reli\n",
      "entir\n",
      "self-attent\n",
      "comput\n",
      "represent\n",
      "input\n",
      "output\n",
      "without\n",
      "use\n",
      "sequenc\n",
      "align\n",
      "rnn\n",
      "convolut\n",
      ".\n"
     ]
    }
   ],
   "source": [
    "for i in sentences:\n",
    "    words = nltk.word_tokenize(i)\n",
    "    for word in words:\n",
    "        if word not in set(stopwords.words('english')):\n",
    "            print(stemmer.stem(word))"
   ]
  },
  {
   "cell_type": "markdown",
   "metadata": {},
   "source": [
    "Apply stopwords and lemmatize"
   ]
  },
  {
   "cell_type": "code",
   "execution_count": 25,
   "metadata": {},
   "outputs": [],
   "source": [
    "corpus = []\n",
    "for i in range(len(sentences)):\n",
    "    review = re.sub('[^a-zA-Z]', ' ', sentences[i])\n",
    "    review = review.lower()\n",
    "    review = review.split()\n",
    "    review = [lemmat.lemmatize(word) for word in review if not word in set(stopwords.words('english'))]\n",
    "    review = ' '.join(review)\n",
    "    corpus.append(review)"
   ]
  },
  {
   "cell_type": "code",
   "execution_count": 26,
   "metadata": {},
   "outputs": [],
   "source": [
    "from sklearn.feature_extraction.text import CountVectorizer\n",
    "cv= CountVectorizer(binary=True) # using binary feature extraction\n"
   ]
  },
  {
   "cell_type": "code",
   "execution_count": 27,
   "metadata": {},
   "outputs": [],
   "source": [
    "X = cv.fit_transform(corpus)"
   ]
  },
  {
   "cell_type": "code",
   "execution_count": 28,
   "metadata": {},
   "outputs": [
    {
     "data": {
      "text/plain": [
       "{'goal': 40,\n",
       " 'reducing': 77,\n",
       " 'sequential': 89,\n",
       " 'computation': 16,\n",
       " 'also': 3,\n",
       " 'form': 38,\n",
       " 'foundation': 39,\n",
       " 'extended': 36,\n",
       " 'neural': 64,\n",
       " 'gpu': 41,\n",
       " 'bytenet': 13,\n",
       " 'convs': 22,\n",
       " 'use': 102,\n",
       " 'convolutional': 21,\n",
       " 'network': 63,\n",
       " 'basic': 9,\n",
       " 'building': 12,\n",
       " 'block': 11,\n",
       " 'computing': 18,\n",
       " 'hidden': 44,\n",
       " 'representation': 81,\n",
       " 'parallel': 69,\n",
       " 'input': 48,\n",
       " 'output': 68,\n",
       " 'position': 71,\n",
       " 'model': 60,\n",
       " 'number': 65,\n",
       " 'operation': 66,\n",
       " 'required': 82,\n",
       " 'relate': 78,\n",
       " 'signal': 91,\n",
       " 'two': 101,\n",
       " 'arbitrary': 5,\n",
       " 'grows': 42,\n",
       " 'distance': 28,\n",
       " 'linearly': 55,\n",
       " 'logarithmically': 56,\n",
       " 'make': 57,\n",
       " 'difficult': 27,\n",
       " 'learn': 53,\n",
       " 'dependency': 25,\n",
       " 'distant': 29,\n",
       " 'transformer': 100,\n",
       " 'reduced': 76,\n",
       " 'constant': 19,\n",
       " 'albeit': 1,\n",
       " 'cost': 23,\n",
       " 'effective': 32,\n",
       " 'resolution': 83,\n",
       " 'due': 30,\n",
       " 'averaging': 7,\n",
       " 'attention': 6,\n",
       " 'weighted': 106,\n",
       " 'effect': 31,\n",
       " 'counteract': 24,\n",
       " 'multi': 62,\n",
       " 'head': 43,\n",
       " 'self': 85,\n",
       " 'sometimes': 94,\n",
       " 'called': 14,\n",
       " 'intra': 50,\n",
       " 'mechanism': 58,\n",
       " 'relating': 79,\n",
       " 'different': 26,\n",
       " 'single': 93,\n",
       " 'sequence': 87,\n",
       " 'order': 67,\n",
       " 'compute': 17,\n",
       " 'used': 103,\n",
       " 'successfully': 95,\n",
       " 'variety': 105,\n",
       " 'task': 97,\n",
       " 'including': 46,\n",
       " 'reading': 73,\n",
       " 'comprehension': 15,\n",
       " 'abstractive': 0,\n",
       " 'summarization': 96,\n",
       " 'textual': 98,\n",
       " 'entailment': 34,\n",
       " 'learning': 54,\n",
       " 'independent': 47,\n",
       " 'sentence': 86,\n",
       " 'end': 33,\n",
       " 'memory': 59,\n",
       " 'based': 8,\n",
       " 'recurrent': 75,\n",
       " 'instead': 49,\n",
       " 'sequencealigned': 88,\n",
       " 'recurrence': 74,\n",
       " 'shown': 90,\n",
       " 'perform': 70,\n",
       " 'well': 107,\n",
       " 'simple': 92,\n",
       " 'language': 52,\n",
       " 'question': 72,\n",
       " 'answering': 4,\n",
       " 'modeling': 61,\n",
       " 'best': 10,\n",
       " 'knowledge': 51,\n",
       " 'however': 45,\n",
       " 'first': 37,\n",
       " 'transduction': 99,\n",
       " 'relying': 80,\n",
       " 'entirely': 35,\n",
       " 'without': 108,\n",
       " 'using': 104,\n",
       " 'aligned': 2,\n",
       " 'rnns': 84,\n",
       " 'convolution': 20}"
      ]
     },
     "execution_count": 28,
     "metadata": {},
     "output_type": "execute_result"
    }
   ],
   "source": [
    "cv.vocabulary_"
   ]
  },
  {
   "cell_type": "code",
   "execution_count": 29,
   "metadata": {},
   "outputs": [
    {
     "data": {
      "text/plain": [
       "'goal reducing sequential computation also form foundation extended neural gpu bytenet convs use convolutional neural network basic building block computing hidden representation parallel input output position'"
      ]
     },
     "execution_count": 29,
     "metadata": {},
     "output_type": "execute_result"
    }
   ],
   "source": [
    "corpus[0]"
   ]
  },
  {
   "cell_type": "code",
   "execution_count": 30,
   "metadata": {},
   "outputs": [
    {
     "data": {
      "text/plain": [
       "array([[0, 0, 0, 1, 0, 0, 0, 0, 0, 1, 0, 1, 1, 1, 0, 0, 1, 0, 1, 0, 0, 1,\n",
       "        1, 0, 0, 0, 0, 0, 0, 0, 0, 0, 0, 0, 0, 0, 1, 0, 1, 1, 1, 1, 0, 0,\n",
       "        1, 0, 0, 0, 1, 0, 0, 0, 0, 0, 0, 0, 0, 0, 0, 0, 0, 0, 0, 1, 1, 0,\n",
       "        0, 0, 1, 1, 0, 1, 0, 0, 0, 0, 0, 1, 0, 0, 0, 1, 0, 0, 0, 0, 0, 0,\n",
       "        0, 1, 0, 0, 0, 0, 0, 0, 0, 0, 0, 0, 0, 0, 1, 0, 0, 0, 0, 0, 0]],\n",
       "      dtype=int64)"
      ]
     },
     "execution_count": 30,
     "metadata": {},
     "output_type": "execute_result"
    }
   ],
   "source": [
    "X[0].toarray()"
   ]
  },
  {
   "cell_type": "code",
   "execution_count": null,
   "metadata": {},
   "outputs": [],
   "source": []
  },
  {
   "cell_type": "code",
   "execution_count": null,
   "metadata": {},
   "outputs": [],
   "source": []
  },
  {
   "cell_type": "code",
   "execution_count": null,
   "metadata": {},
   "outputs": [],
   "source": []
  },
  {
   "cell_type": "code",
   "execution_count": null,
   "metadata": {},
   "outputs": [],
   "source": []
  },
  {
   "cell_type": "code",
   "execution_count": null,
   "metadata": {},
   "outputs": [],
   "source": []
  },
  {
   "cell_type": "code",
   "execution_count": null,
   "metadata": {},
   "outputs": [],
   "source": []
  },
  {
   "cell_type": "code",
   "execution_count": null,
   "metadata": {},
   "outputs": [],
   "source": []
  },
  {
   "cell_type": "code",
   "execution_count": null,
   "metadata": {},
   "outputs": [],
   "source": []
  }
 ],
 "metadata": {
  "kernelspec": {
   "display_name": "Python 3",
   "language": "python",
   "name": "python3"
  },
  "language_info": {
   "codemirror_mode": {
    "name": "ipython",
    "version": 3
   },
   "file_extension": ".py",
   "mimetype": "text/x-python",
   "name": "python",
   "nbconvert_exporter": "python",
   "pygments_lexer": "ipython3",
   "version": "3.10.0"
  }
 },
 "nbformat": 4,
 "nbformat_minor": 2
}
